{
  "cells": [
    {
      "cell_type": "markdown",
      "metadata": {
        "id": "f7bb892c"
      },
      "source": [
        "### Reading Data"
      ],
      "id": "f7bb892c"
    },
    {
      "cell_type": "code",
      "execution_count": null,
      "metadata": {
        "colab": {
          "base_uri": "https://localhost:8080/"
        },
        "id": "WAVB8pj8nY7b",
        "outputId": "7b9aedce-4796-4d82-b9a4-7321d6b7d7bc"
      },
      "outputs": [
        {
          "output_type": "stream",
          "name": "stdout",
          "text": [
            "Drive already mounted at /content/gdrive; to attempt to forcibly remount, call drive.mount(\"/content/gdrive\", force_remount=True).\n"
          ]
        }
      ],
      "source": [
        "from google.colab import drive\n",
        "drive.mount('/content/gdrive')\n",
        "\n",
        "# This code mounts the files from google drive into colab."
      ],
      "id": "WAVB8pj8nY7b"
    },
    {
      "cell_type": "code",
      "execution_count": null,
      "metadata": {
        "colab": {
          "base_uri": "https://localhost:8080/",
          "height": 220
        },
        "id": "8001a2b4",
        "outputId": "f7e08916-ecbd-430f-cdb3-1778b332c3c7"
      },
      "outputs": [
        {
          "output_type": "stream",
          "name": "stdout",
          "text": [
            "Train size 3969\n",
            "Test size 997\n"
          ]
        },
        {
          "output_type": "execute_result",
          "data": {
            "text/plain": [
              "         medical_specialty                                      transcription  \\\n",
              "0   Emergency Room Reports  REASON FOR THE VISIT:,  Very high PT/INR.,HIST...   \n",
              "1                  Surgery  PREOPERATIVE DIAGNOSIS:,  Acetabular fracture ...   \n",
              "2                  Surgery  NAME OF PROCEDURE,1.  Selective coronary angio...   \n",
              "\n",
              "   labels  \n",
              "0       0  \n",
              "1       1  \n",
              "2       1  "
            ],
            "text/html": [
              "\n",
              "  <div id=\"df-56f90c4b-3d70-4f5f-9496-a36bb843a03f\">\n",
              "    <div class=\"colab-df-container\">\n",
              "      <div>\n",
              "<style scoped>\n",
              "    .dataframe tbody tr th:only-of-type {\n",
              "        vertical-align: middle;\n",
              "    }\n",
              "\n",
              "    .dataframe tbody tr th {\n",
              "        vertical-align: top;\n",
              "    }\n",
              "\n",
              "    .dataframe thead th {\n",
              "        text-align: right;\n",
              "    }\n",
              "</style>\n",
              "<table border=\"1\" class=\"dataframe\">\n",
              "  <thead>\n",
              "    <tr style=\"text-align: right;\">\n",
              "      <th></th>\n",
              "      <th>medical_specialty</th>\n",
              "      <th>transcription</th>\n",
              "      <th>labels</th>\n",
              "    </tr>\n",
              "  </thead>\n",
              "  <tbody>\n",
              "    <tr>\n",
              "      <th>0</th>\n",
              "      <td>Emergency Room Reports</td>\n",
              "      <td>REASON FOR THE VISIT:,  Very high PT/INR.,HIST...</td>\n",
              "      <td>0</td>\n",
              "    </tr>\n",
              "    <tr>\n",
              "      <th>1</th>\n",
              "      <td>Surgery</td>\n",
              "      <td>PREOPERATIVE DIAGNOSIS:,  Acetabular fracture ...</td>\n",
              "      <td>1</td>\n",
              "    </tr>\n",
              "    <tr>\n",
              "      <th>2</th>\n",
              "      <td>Surgery</td>\n",
              "      <td>NAME OF PROCEDURE,1.  Selective coronary angio...</td>\n",
              "      <td>1</td>\n",
              "    </tr>\n",
              "  </tbody>\n",
              "</table>\n",
              "</div>\n",
              "      <button class=\"colab-df-convert\" onclick=\"convertToInteractive('df-56f90c4b-3d70-4f5f-9496-a36bb843a03f')\"\n",
              "              title=\"Convert this dataframe to an interactive table.\"\n",
              "              style=\"display:none;\">\n",
              "        \n",
              "  <svg xmlns=\"http://www.w3.org/2000/svg\" height=\"24px\"viewBox=\"0 0 24 24\"\n",
              "       width=\"24px\">\n",
              "    <path d=\"M0 0h24v24H0V0z\" fill=\"none\"/>\n",
              "    <path d=\"M18.56 5.44l.94 2.06.94-2.06 2.06-.94-2.06-.94-.94-2.06-.94 2.06-2.06.94zm-11 1L8.5 8.5l.94-2.06 2.06-.94-2.06-.94L8.5 2.5l-.94 2.06-2.06.94zm10 10l.94 2.06.94-2.06 2.06-.94-2.06-.94-.94-2.06-.94 2.06-2.06.94z\"/><path d=\"M17.41 7.96l-1.37-1.37c-.4-.4-.92-.59-1.43-.59-.52 0-1.04.2-1.43.59L10.3 9.45l-7.72 7.72c-.78.78-.78 2.05 0 2.83L4 21.41c.39.39.9.59 1.41.59.51 0 1.02-.2 1.41-.59l7.78-7.78 2.81-2.81c.8-.78.8-2.07 0-2.86zM5.41 20L4 18.59l7.72-7.72 1.47 1.35L5.41 20z\"/>\n",
              "  </svg>\n",
              "      </button>\n",
              "      \n",
              "  <style>\n",
              "    .colab-df-container {\n",
              "      display:flex;\n",
              "      flex-wrap:wrap;\n",
              "      gap: 12px;\n",
              "    }\n",
              "\n",
              "    .colab-df-convert {\n",
              "      background-color: #E8F0FE;\n",
              "      border: none;\n",
              "      border-radius: 50%;\n",
              "      cursor: pointer;\n",
              "      display: none;\n",
              "      fill: #1967D2;\n",
              "      height: 32px;\n",
              "      padding: 0 0 0 0;\n",
              "      width: 32px;\n",
              "    }\n",
              "\n",
              "    .colab-df-convert:hover {\n",
              "      background-color: #E2EBFA;\n",
              "      box-shadow: 0px 1px 2px rgba(60, 64, 67, 0.3), 0px 1px 3px 1px rgba(60, 64, 67, 0.15);\n",
              "      fill: #174EA6;\n",
              "    }\n",
              "\n",
              "    [theme=dark] .colab-df-convert {\n",
              "      background-color: #3B4455;\n",
              "      fill: #D2E3FC;\n",
              "    }\n",
              "\n",
              "    [theme=dark] .colab-df-convert:hover {\n",
              "      background-color: #434B5C;\n",
              "      box-shadow: 0px 1px 3px 1px rgba(0, 0, 0, 0.15);\n",
              "      filter: drop-shadow(0px 1px 2px rgba(0, 0, 0, 0.3));\n",
              "      fill: #FFFFFF;\n",
              "    }\n",
              "  </style>\n",
              "\n",
              "      <script>\n",
              "        const buttonEl =\n",
              "          document.querySelector('#df-56f90c4b-3d70-4f5f-9496-a36bb843a03f button.colab-df-convert');\n",
              "        buttonEl.style.display =\n",
              "          google.colab.kernel.accessAllowed ? 'block' : 'none';\n",
              "\n",
              "        async function convertToInteractive(key) {\n",
              "          const element = document.querySelector('#df-56f90c4b-3d70-4f5f-9496-a36bb843a03f');\n",
              "          const dataTable =\n",
              "            await google.colab.kernel.invokeFunction('convertToInteractive',\n",
              "                                                     [key], {});\n",
              "          if (!dataTable) return;\n",
              "\n",
              "          const docLinkHtml = 'Like what you see? Visit the ' +\n",
              "            '<a target=\"_blank\" href=https://colab.research.google.com/notebooks/data_table.ipynb>data table notebook</a>'\n",
              "            + ' to learn more about interactive tables.';\n",
              "          element.innerHTML = '';\n",
              "          dataTable['output_type'] = 'display_data';\n",
              "          await google.colab.output.renderOutput(dataTable, element);\n",
              "          const docLink = document.createElement('div');\n",
              "          docLink.innerHTML = docLinkHtml;\n",
              "          element.appendChild(docLink);\n",
              "        }\n",
              "      </script>\n",
              "    </div>\n",
              "  </div>\n",
              "  "
            ]
          },
          "metadata": {},
          "execution_count": 106
        }
      ],
      "source": [
        "import pandas as pd\n",
        "\n",
        "train_df = pd.read_csv(\"/content/gdrive/MyDrive/Hackathon/new_train.csv\", index_col=0)\n",
        "test_df = pd.read_csv(\"/content/gdrive/MyDrive/Hackathon/new_test.csv\", index_col=0)\n",
        "\n",
        "print(\"Train size\", len(train_df))\n",
        "print(\"Test size\", len(test_df))\n",
        "train_df.head(n=3)\n",
        "\n",
        "\n",
        "\n",
        "# This code imports Panda library and uses it to read the two csv files into data frames.\n",
        "# The path to the dataset csvs are included to the code.\n",
        "# Next the \"index_col=0\" specifies that the first column of the CSV file should be used as the index of the data frame.\n",
        "# By running this code section, we obtain \"Train size 3969\", \"Test size 997\" and the first three lines of the new_train.csv file."
      ],
      "id": "8001a2b4"
    },
    {
      "cell_type": "code",
      "execution_count": null,
      "metadata": {
        "colab": {
          "base_uri": "https://localhost:8080/"
        },
        "outputId": "63930805-0f17-424c-9b01-56556510fa58",
        "id": "_rGMhaPV0Ctv"
      },
      "outputs": [
        {
          "output_type": "stream",
          "name": "stderr",
          "text": [
            "[nltk_data] Downloading package omw-1.4 to /root/nltk_data...\n",
            "[nltk_data]   Package omw-1.4 is already up-to-date!\n",
            "[nltk_data] Downloading package stopwords to /root/nltk_data...\n",
            "[nltk_data]   Package stopwords is already up-to-date!\n",
            "[nltk_data] Downloading package punkt to /root/nltk_data...\n",
            "[nltk_data]   Package punkt is already up-to-date!\n",
            "[nltk_data] Downloading package wordnet to /root/nltk_data...\n",
            "[nltk_data]   Package wordnet is already up-to-date!\n"
          ]
        }
      ],
      "source": [
        "import nltk\n",
        "from nltk.corpus import stopwords\n",
        "from nltk.stem import WordNetLemmatizer\n",
        "import re\n",
        "\n",
        "nltk.download('omw-1.4')\n",
        "nltk.download('stopwords')\n",
        "nltk.download('punkt')\n",
        "nltk.download('wordnet')\n",
        "\n",
        "# To clean the text for better recognition\n",
        "train_df = train_df[train_df [\"transcription\"].notna()]\n",
        "\n",
        "def clean_text(text):\n",
        "    special_char = re.compile('[/(){}\\[\\]\\|@,;]')\n",
        "    text = special_char.sub('', text)\n",
        "    special_char2 = re.compile('[^0-9a-z #+_]')\n",
        "    text = special_char2.sub('', text)\n",
        "    text = text.lower()\n",
        "    tokens = nltk.word_tokenize(text)\n",
        "    stop_words = set(stopwords.words('english'))\n",
        "    tokens = [token for token in tokens if token not in stop_words]\n",
        "    lemmatizer = WordNetLemmatizer()\n",
        "    tokens = [lemmatizer.lemmatize(token) for token in tokens]\n",
        "    return ' '.join(tokens)   "
      ],
      "id": "_rGMhaPV0Ctv"
    },
    {
      "cell_type": "code",
      "source": [
        "train_df[\"transcription\"]=train_df[\"transcription\"].apply(clean_text)"
      ],
      "metadata": {
        "id": "Hra-WrmK8rzC"
      },
      "id": "Hra-WrmK8rzC",
      "execution_count": null,
      "outputs": []
    },
    {
      "cell_type": "markdown",
      "metadata": {
        "id": "b326d130"
      },
      "source": [
        "### Train Set Label Distribution"
      ],
      "id": "b326d130"
    },
    {
      "cell_type": "code",
      "execution_count": null,
      "metadata": {
        "colab": {
          "base_uri": "https://localhost:8080/"
        },
        "id": "c349df00",
        "outputId": "f452fe57-2b5b-4c39-85a2-dc229de65cf3",
        "scrolled": true
      },
      "outputs": [
        {
          "output_type": "stream",
          "name": "stdout",
          "text": [
            " Surgery                          863\n",
            " Consult - History and Phy.       410\n",
            " Cardiovascular / Pulmonary       309\n",
            " Orthopedic                       289\n",
            " Radiology                        213\n",
            " General Medicine                 209\n",
            " Gastroenterology                 176\n",
            " Neurology                        170\n",
            " SOAP / Chart / Progress Notes    135\n",
            " Urology                          134\n",
            " Obstetrics / Gynecology          123\n",
            " Discharge Summary                 87\n",
            " ENT - Otolaryngology              82\n",
            " Neurosurgery                      71\n",
            " Hematology - Oncology             68\n",
            " Ophthalmology                     67\n",
            " Emergency Room Reports            63\n",
            " Nephrology                        63\n",
            " Pediatrics - Neonatal             55\n",
            " Pain Management                   54\n",
            " Psychiatry / Psychology           45\n",
            " Office Notes                      38\n",
            " Podiatry                          35\n",
            " Dermatology                       21\n",
            " Dentistry                         21\n",
            " Cosmetic / Plastic Surgery        19\n",
            " Letters                           19\n",
            " Endocrinology                     16\n",
            " Physical Medicine - Rehab         16\n",
            " Bariatrics                        15\n",
            " IME-QME-Work Comp etc.            12\n",
            " Chiropractic                      12\n",
            " Sleep Medicine                    12\n",
            " Diets and Nutritions               9\n",
            " Speech - Language                  8\n",
            " Autopsy                            7\n",
            " Hospice - Palliative Care          6\n",
            " Allergy / Immunology               6\n",
            " Rheumatology                       6\n",
            " Lab Medicine - Pathology           5\n",
            "Name: medical_specialty, dtype: int64\n"
          ]
        }
      ],
      "source": [
        "counts = train_df[\"medical_specialty\"].value_counts()\n",
        "\n",
        "print(counts)\n",
        "# This code prints the label and the corresponding number of transcriptions for each speciality."
      ],
      "id": "c349df00"
    },
    {
      "cell_type": "markdown",
      "metadata": {
        "id": "WOtg9ICDDhI1"
      },
      "source": [
        "\n",
        "Exploratory data analysis observations: \n",
        "\n",
        "Based on the outputs of the above code, it can be observed that 19 out of the 40 medical specialities have less than 1% occurence of the 3969 cases in train_df. Similarly, the top 5 categories (Surgery...Radiology) take up about 50% of the dataset occurences. This suggests that the dataset is imbalanced and skewed, thus limiting the accuracy of the classification model that will be trained. Therefore, in order to increase the resulting f1 score of the algorithm, a possibility could be to remove labels with count less than 40 (~1% of training cases) as shown below."
      ],
      "id": "WOtg9ICDDhI1"
    },
    {
      "cell_type": "code",
      "source": [
        "train_df = train_df[~train_df[\"medical_specialty\"].isin(counts[counts < 40].index)]\n",
        "\n",
        "counts = train_df[\"medical_specialty\"].value_counts()\n",
        "print(counts)"
      ],
      "metadata": {
        "colab": {
          "base_uri": "https://localhost:8080/"
        },
        "id": "lqAKkntXXbMU",
        "outputId": "23ffdcd1-52b3-4d13-c350-e23a998cece4"
      },
      "id": "lqAKkntXXbMU",
      "execution_count": null,
      "outputs": [
        {
          "output_type": "stream",
          "name": "stdout",
          "text": [
            " Surgery                          863\n",
            " Consult - History and Phy.       410\n",
            " Cardiovascular / Pulmonary       309\n",
            " Orthopedic                       289\n",
            " Radiology                        213\n",
            " General Medicine                 209\n",
            " Gastroenterology                 176\n",
            " Neurology                        170\n",
            " SOAP / Chart / Progress Notes    135\n",
            " Urology                          134\n",
            " Obstetrics / Gynecology          123\n",
            " Discharge Summary                 87\n",
            " ENT - Otolaryngology              82\n",
            " Neurosurgery                      71\n",
            " Hematology - Oncology             68\n",
            " Ophthalmology                     67\n",
            " Emergency Room Reports            63\n",
            " Nephrology                        63\n",
            " Pediatrics - Neonatal             55\n",
            " Pain Management                   54\n",
            " Psychiatry / Psychology           45\n",
            "Name: medical_specialty, dtype: int64\n"
          ]
        }
      ]
    },
    {
      "cell_type": "markdown",
      "source": [
        "\n",
        "Exploratory data analysis observations:\n",
        "Further analysis of the train.csv file shows that when you sort the file by the transcription column, there are multiple occurrences of the same transcription but with various labels attached to it. This shows that the transcriptions inputted can have multiple labels which may confuse algorithm. Therefore, the following supersets are identified and combined to reduce such occurences in the following codeblock. \n",
        "\n",
        "\n",
        "\n",
        "1.   Surgery \n",
        "2. SOAP/ Chart / Progress Notes\n",
        "3. Emergency Room Reports\n",
        "4. Discharge Summary\n",
        "5. Office Notes\n",
        "2.   General Medicine \n",
        "3. Pain Management \n",
        "4. Neurology (Superset of Neurosurgery)\n",
        "5. Urology (Superset of Nephrology)\n",
        "\n",
        "\n",
        "\n"
      ],
      "metadata": {
        "id": "FGk-hFQCYKkX"
      },
      "id": "FGk-hFQCYKkX"
    },
    {
      "cell_type": "code",
      "source": [
        "train_df = train_df[train_df[\"medical_specialty\"] != \"Surgery\"]\n",
        "train_df = train_df[train_df[\"medical_specialty\"] != \"SOAP / Chart / Progress Notes\"]\n",
        "train_df = train_df[train_df[\"medical_specialty\"] != \"Emergency Room Reports\"]\n",
        "train_df = train_df[train_df[\"medical_specialty\"] != \"Discharge Summary\"]\n",
        "train_df = train_df[train_df[\"medical_specialty\"] != \"Office Notes\"]\n",
        "train_df = train_df[train_df[\"medical_specialty\"] != \"General Medicine\"]\n",
        "train_df = train_df[train_df[\"medical_specialty\"] != \"Pain Management\"]\n",
        "train_df.loc[train_df.medical_specialty == ' Neurosurgery', \"medical_specialty\"] = ' Neurology'\n",
        "train_df.loc[train_df.medical_specialty == ' Nephrology', \"medical_specialty\"] = \" Urology\"\n",
        "\n",
        "counts = train_df[\"medical_specialty\"].value_counts()\n",
        "print(counts)"
      ],
      "metadata": {
        "colab": {
          "base_uri": "https://localhost:8080/"
        },
        "id": "uoIqu3XiZjV2",
        "outputId": "4549286b-b367-42d8-cf71-a1eec04bdcbf"
      },
      "id": "uoIqu3XiZjV2",
      "execution_count": null,
      "outputs": [
        {
          "output_type": "stream",
          "name": "stdout",
          "text": [
            " Surgery                          863\n",
            " Consult - History and Phy.       410\n",
            " Cardiovascular / Pulmonary       309\n",
            " Orthopedic                       289\n",
            " Neurology                        241\n",
            " Radiology                        213\n",
            " General Medicine                 209\n",
            " Urology                          197\n",
            " Gastroenterology                 176\n",
            " SOAP / Chart / Progress Notes    135\n",
            " Obstetrics / Gynecology          123\n",
            " Discharge Summary                 87\n",
            " ENT - Otolaryngology              82\n",
            " Hematology - Oncology             68\n",
            " Ophthalmology                     67\n",
            " Emergency Room Reports            63\n",
            " Pediatrics - Neonatal             55\n",
            " Pain Management                   54\n",
            " Psychiatry / Psychology           45\n",
            "Name: medical_specialty, dtype: int64\n"
          ]
        }
      ]
    },
    {
      "cell_type": "code",
      "execution_count": null,
      "metadata": {
        "colab": {
          "base_uri": "https://localhost:8080/"
        },
        "id": "3e142223",
        "outputId": "71cfa288-3b21-46b3-d764-2cae676b8255"
      },
      "outputs": [
        {
          "output_type": "stream",
          "name": "stdout",
          "text": [
            "[' Emergency Room Reports' ' Surgery' ' Radiology' ' Neurology'\n",
            " ' Gastroenterology' ' Orthopedic' ' Cardiovascular / Pulmonary'\n",
            " ' Urology' ' ENT - Otolaryngology' ' General Medicine'\n",
            " ' Hematology - Oncology' ' SOAP / Chart / Progress Notes'\n",
            " ' Psychiatry / Psychology' ' Consult - History and Phy.'\n",
            " ' Obstetrics / Gynecology' ' Discharge Summary' ' Ophthalmology'\n",
            " ' Pediatrics - Neonatal' ' Pain Management']\n",
            "Number of medical specialities: 19\n"
          ]
        }
      ],
      "source": [
        "unique_classes = train_df[\"medical_specialty\"].unique()\n",
        "print(unique_classes)\n",
        "\n",
        "idx_2_class = {i: s for i, s in enumerate(unique_classes)}\n",
        "\n",
        "# This line for idx_2_class returns the names of medical specialities with its corresponding label (eg 0: 'Emergency Room Reports'...).\n",
        "# That is, indexing the specialities with its corresponding labels.\n",
        "\n",
        "class_2_idx = {s: i for i, s in enumerate(unique_classes)}\n",
        "# This line does the same as idx_2_class but prints the index of the corresponding medical speciality label (eg 'Surgery': 1...).\n",
        "\n",
        "print(\"Number of medical specialities:\", len(unique_classes))\n",
        "# Running the print line outputs the array containing the count of medical specialities which is 40."
      ],
      "id": "3e142223"
    },
    {
      "cell_type": "code",
      "source": [
        "# This dataset is still imbalanced due to a large proportion of the transcriptions\n",
        "# being of type surgery. Therefore, to even the dataset, we will be taking samples \n",
        "# of 40 from each type\n",
        "\n",
        "for spec in unique_classes:\n",
        "  t = train_df[train_df[\"medical_specialty\"] == spec].sample(n=40, replace=False)\n",
        "  train_df = pd.concat([train_df, t], ignore_index=True).sample(frac=1)\n",
        "#counts = train_df[\"medical_specialty\"].value_counts()\n",
        "#print(counts)  "
      ],
      "metadata": {
        "id": "u8TRB8ycyeAC"
      },
      "id": "u8TRB8ycyeAC",
      "execution_count": null,
      "outputs": []
    },
    {
      "cell_type": "markdown",
      "metadata": {
        "id": "9df8c8f3"
      },
      "source": [
        "### Transcription"
      ],
      "id": "9df8c8f3"
    },
    {
      "cell_type": "code",
      "execution_count": null,
      "metadata": {
        "colab": {
          "base_uri": "https://localhost:8080/"
        },
        "id": "4b4b315a",
        "outputId": "a8e7b06f-4cfd-4d74-e441-bbb1c09d8712"
      },
      "outputs": [
        {
          "output_type": "stream",
          "name": "stdout",
          "text": [
            "('ngina coronary artery disease ngina coronary artery disease oronary artery '\n",
            " 'bypass grafting x2 left internal mammary artery left anterior descending '\n",
            " 'reverse saphenous vein graft circumflex ude proximal anastomosis used vein '\n",
            " 'graft ffpump edtronic technique left internal mammary artery technique '\n",
            " 'circumflex eneral patient brought operating room placed supine position upon '\n",
            " 'table fter adequate general anesthesia patient prepped etadine soap solution '\n",
            " 'usual sterile manner lbows protected avoid ulnar neuropathy chest wall '\n",
            " 'expansion avoided avoid ulnar neuropathy phrenic nerve protector used '\n",
            " 'protect phrenic nerve removed end case midline sternal skin incision made '\n",
            " 'carried sternum divided saw ericardial thymus fat pad divided left internal '\n",
            " 'mammary artery harvested spatulated anastomosis eparin givenein resected '\n",
            " 'thigh side branch secured using 40 silk emoclips thigh closed multilayer '\n",
            " 'icryl exon technique ulsavac wash done drain placedhe left internal mammary '\n",
            " 'artery sewn left anterior descending using 70 running rolene technique '\n",
            " 'edtronic offpump retractor fter done patient fully heparinized cannulated 65 '\n",
            " 'atrial cannula 2stage venous catheter begun cardiopulmonary bypass '\n",
            " 'maintained normothermia edtronic retractor used expose circumflex rior going '\n",
            " 'pump stapled vein graft place aortahen pump distal anastomosis 70 running '\n",
            " 'rolene technique right side graft brought posterior descending artery using '\n",
            " 'running 70 rolene technique eairing procedure carried bulldog removed '\n",
            " 'patient maintained good normal sinus rhythm good mean perfusion patient '\n",
            " 'weaned cardiopulmonary bypass arterial venous line removed doubly secured '\n",
            " 'rotamine delivered eticulous hemostasis present latelets given coagulopathy '\n",
            " 'hest tube placed meticulous hemostasis present anatomy flow graft excellent '\n",
            " 'losure begunhe sternum closed wire followed linea alba pectus fascia closure '\n",
            " 'running 0 icryl suture doublelayer technique skin closed subcuticular 40 '\n",
            " 'exon suture technique patient tolerated procedure well transferred intensive '\n",
            " 'care unit stable conditione minimized pump time 16 minute distal anastomosis '\n",
            " 'circumflex order lessen insult kidney patient already kidney failure '\n",
            " 'creatinine 30')\n"
          ]
        }
      ],
      "source": [
        "from pprint import pprint\n",
        "pprint(train_df.transcription[4])\n",
        "\n",
        "# This code prints the corresponding transcription in the row of the input given in []."
      ],
      "id": "4b4b315a"
    },
    {
      "cell_type": "markdown",
      "metadata": {
        "id": "0f1b6f4d"
      },
      "source": [
        "### Training"
      ],
      "id": "0f1b6f4d"
    },
    {
      "cell_type": "markdown",
      "metadata": {
        "id": "Qv0o6_XaFKfD"
      },
      "source": [
        "This program requires code to train a machine learning model to perform multi-label classification of x number of specialities based on y number of transcriptions given. Using the DistilBERT model, the program will be optimised to obtain the highest possible f1 score. \n"
      ],
      "id": "Qv0o6_XaFKfD"
    },
    {
      "cell_type": "code",
      "execution_count": null,
      "metadata": {
        "colab": {
          "base_uri": "https://localhost:8080/"
        },
        "id": "68977658",
        "outputId": "1063576e-f348-41de-bd85-92ae80796adb"
      },
      "outputs": [
        {
          "output_type": "stream",
          "name": "stdout",
          "text": [
            "Looking in indexes: https://pypi.org/simple, https://us-python.pkg.dev/colab-wheels/public/simple/\n",
            "Requirement already satisfied: datasets in /usr/local/lib/python3.8/dist-packages (2.10.0)\n",
            "Requirement already satisfied: xxhash in /usr/local/lib/python3.8/dist-packages (from datasets) (3.2.0)\n",
            "Requirement already satisfied: pyarrow>=6.0.0 in /usr/local/lib/python3.8/dist-packages (from datasets) (9.0.0)\n",
            "Requirement already satisfied: tqdm>=4.62.1 in /usr/local/lib/python3.8/dist-packages (from datasets) (4.64.1)\n",
            "Requirement already satisfied: dill<0.3.7,>=0.3.0 in /usr/local/lib/python3.8/dist-packages (from datasets) (0.3.6)\n",
            "Requirement already satisfied: multiprocess in /usr/local/lib/python3.8/dist-packages (from datasets) (0.70.14)\n",
            "Requirement already satisfied: aiohttp in /usr/local/lib/python3.8/dist-packages (from datasets) (3.8.4)\n",
            "Requirement already satisfied: requests>=2.19.0 in /usr/local/lib/python3.8/dist-packages (from datasets) (2.25.1)\n",
            "Requirement already satisfied: numpy>=1.17 in /usr/local/lib/python3.8/dist-packages (from datasets) (1.22.4)\n",
            "Requirement already satisfied: pyyaml>=5.1 in /usr/local/lib/python3.8/dist-packages (from datasets) (6.0)\n",
            "Requirement already satisfied: huggingface-hub<1.0.0,>=0.2.0 in /usr/local/lib/python3.8/dist-packages (from datasets) (0.12.1)\n",
            "Requirement already satisfied: responses<0.19 in /usr/local/lib/python3.8/dist-packages (from datasets) (0.18.0)\n",
            "Requirement already satisfied: pandas in /usr/local/lib/python3.8/dist-packages (from datasets) (1.3.5)\n",
            "Requirement already satisfied: fsspec[http]>=2021.11.1 in /usr/local/lib/python3.8/dist-packages (from datasets) (2023.1.0)\n",
            "Requirement already satisfied: packaging in /usr/local/lib/python3.8/dist-packages (from datasets) (23.0)\n",
            "Requirement already satisfied: charset-normalizer<4.0,>=2.0 in /usr/local/lib/python3.8/dist-packages (from aiohttp->datasets) (3.0.1)\n",
            "Requirement already satisfied: attrs>=17.3.0 in /usr/local/lib/python3.8/dist-packages (from aiohttp->datasets) (22.2.0)\n",
            "Requirement already satisfied: async-timeout<5.0,>=4.0.0a3 in /usr/local/lib/python3.8/dist-packages (from aiohttp->datasets) (4.0.2)\n",
            "Requirement already satisfied: aiosignal>=1.1.2 in /usr/local/lib/python3.8/dist-packages (from aiohttp->datasets) (1.3.1)\n",
            "Requirement already satisfied: frozenlist>=1.1.1 in /usr/local/lib/python3.8/dist-packages (from aiohttp->datasets) (1.3.3)\n",
            "Requirement already satisfied: yarl<2.0,>=1.0 in /usr/local/lib/python3.8/dist-packages (from aiohttp->datasets) (1.8.2)\n",
            "Requirement already satisfied: multidict<7.0,>=4.5 in /usr/local/lib/python3.8/dist-packages (from aiohttp->datasets) (6.0.4)\n",
            "Requirement already satisfied: filelock in /usr/local/lib/python3.8/dist-packages (from huggingface-hub<1.0.0,>=0.2.0->datasets) (3.9.0)\n",
            "Requirement already satisfied: typing-extensions>=3.7.4.3 in /usr/local/lib/python3.8/dist-packages (from huggingface-hub<1.0.0,>=0.2.0->datasets) (4.5.0)\n",
            "Requirement already satisfied: chardet<5,>=3.0.2 in /usr/local/lib/python3.8/dist-packages (from requests>=2.19.0->datasets) (4.0.0)\n",
            "Requirement already satisfied: idna<3,>=2.5 in /usr/local/lib/python3.8/dist-packages (from requests>=2.19.0->datasets) (2.10)\n",
            "Requirement already satisfied: certifi>=2017.4.17 in /usr/local/lib/python3.8/dist-packages (from requests>=2.19.0->datasets) (2022.12.7)\n",
            "Requirement already satisfied: urllib3<1.27,>=1.21.1 in /usr/local/lib/python3.8/dist-packages (from requests>=2.19.0->datasets) (1.26.14)\n",
            "Requirement already satisfied: pytz>=2017.3 in /usr/local/lib/python3.8/dist-packages (from pandas->datasets) (2022.7.1)\n",
            "Requirement already satisfied: python-dateutil>=2.7.3 in /usr/local/lib/python3.8/dist-packages (from pandas->datasets) (2.8.2)\n",
            "Requirement already satisfied: six>=1.5 in /usr/local/lib/python3.8/dist-packages (from python-dateutil>=2.7.3->pandas->datasets) (1.15.0)\n",
            "Looking in indexes: https://pypi.org/simple, https://us-python.pkg.dev/colab-wheels/public/simple/\n",
            "Requirement already satisfied: transformers in /usr/local/lib/python3.8/dist-packages (4.26.1)\n",
            "Requirement already satisfied: tqdm>=4.27 in /usr/local/lib/python3.8/dist-packages (from transformers) (4.64.1)\n",
            "Requirement already satisfied: huggingface-hub<1.0,>=0.11.0 in /usr/local/lib/python3.8/dist-packages (from transformers) (0.12.1)\n",
            "Requirement already satisfied: numpy>=1.17 in /usr/local/lib/python3.8/dist-packages (from transformers) (1.22.4)\n",
            "Requirement already satisfied: requests in /usr/local/lib/python3.8/dist-packages (from transformers) (2.25.1)\n",
            "Requirement already satisfied: filelock in /usr/local/lib/python3.8/dist-packages (from transformers) (3.9.0)\n",
            "Requirement already satisfied: packaging>=20.0 in /usr/local/lib/python3.8/dist-packages (from transformers) (23.0)\n",
            "Requirement already satisfied: tokenizers!=0.11.3,<0.14,>=0.11.1 in /usr/local/lib/python3.8/dist-packages (from transformers) (0.13.2)\n",
            "Requirement already satisfied: regex!=2019.12.17 in /usr/local/lib/python3.8/dist-packages (from transformers) (2022.6.2)\n",
            "Requirement already satisfied: pyyaml>=5.1 in /usr/local/lib/python3.8/dist-packages (from transformers) (6.0)\n",
            "Requirement already satisfied: typing-extensions>=3.7.4.3 in /usr/local/lib/python3.8/dist-packages (from huggingface-hub<1.0,>=0.11.0->transformers) (4.5.0)\n",
            "Requirement already satisfied: urllib3<1.27,>=1.21.1 in /usr/local/lib/python3.8/dist-packages (from requests->transformers) (1.26.14)\n",
            "Requirement already satisfied: idna<3,>=2.5 in /usr/local/lib/python3.8/dist-packages (from requests->transformers) (2.10)\n",
            "Requirement already satisfied: chardet<5,>=3.0.2 in /usr/local/lib/python3.8/dist-packages (from requests->transformers) (4.0.0)\n",
            "Requirement already satisfied: certifi>=2017.4.17 in /usr/local/lib/python3.8/dist-packages (from requests->transformers) (2022.12.7)\n"
          ]
        }
      ],
      "source": [
        "!pip install datasets\n",
        "# This line installs the datasets necessary for the following 4 lines of code.\n",
        "from datasets.dataset_dict import DatasetDict\n",
        "from datasets import Dataset\n",
        "from torch import nn\n",
        "import torch\n",
        "\n",
        "!pip install transformers\n",
        "# This line installs transformers to run the following two lines.\n",
        "from transformers import AutoModelForSequenceClassification, AutoTokenizer, Trainer, TrainingArguments\n",
        "from sklearn.model_selection import train_test_split"
      ],
      "id": "68977658"
    },
    {
      "cell_type": "markdown",
      "metadata": {
        "id": "KqesFjwgBf_F"
      },
      "source": [
        "### Using DistilBERT"
      ],
      "id": "KqesFjwgBf_F"
    },
    {
      "cell_type": "code",
      "execution_count": null,
      "metadata": {
        "id": "cac5d380"
      },
      "outputs": [],
      "source": [
        "train_df[\"labels\"] = train_df[\"medical_specialty\"].apply(lambda s: class_2_idx[s])\n",
        "\n",
        "# This line creates the labels for the corresponding medical specialities."
      ],
      "id": "cac5d380"
    },
    {
      "cell_type": "code",
      "execution_count": null,
      "metadata": {
        "id": "233a4365"
      },
      "outputs": [],
      "source": [
        "train_train_df, train_test_df = \\\n",
        "    train_test_split(\n",
        "    train_df,\n",
        "    test_size=0.3,\n",
        "    # The previous line splits the test file as 70%, 30% where 70% of train_df will be used to train the algortithm and the remaining 30% will be used to predict outcome.\n",
        "    random_state=42\n",
        "    # The previous line ensures that the splits are fixed and each run will return the same output. \n",
        "    # Removing of line can be used to improve accuracy with k-cross validation of the training data (ie. each test split varies). \n",
        "    # However, since the code makes use of transformers, there will not be a significant difference in accuracy by using cross validation. ??\n",
        ")"
      ],
      "id": "233a4365"
    },
    {
      "cell_type": "code",
      "execution_count": null,
      "metadata": {
        "id": "449f16bd"
      },
      "outputs": [],
      "source": [
        "ds_dict = {\n",
        "    'train': Dataset.from_pandas(train_train_df),\n",
        "    'val': Dataset.from_pandas(train_test_df),\n",
        "    \"test\": Dataset.from_pandas(test_df)\n",
        "}\n",
        "\n",
        "ds = DatasetDict(ds_dict)"
      ],
      "id": "449f16bd"
    },
    {
      "cell_type": "code",
      "execution_count": null,
      "metadata": {
        "colab": {
          "base_uri": "https://localhost:8080/",
          "height": 972,
          "referenced_widgets": [
            "ec9ff88666f44adda283304db87f3ed4",
            "e44d805b85eb4c4fbad0c66f9e313062",
            "3671859100d743d799e2f686f2d9061b",
            "54b1676bc7d54ce9b2e14c61258e3b94",
            "1c24f4b7dfd34a3fb60e3111d3bc7e8a",
            "a6d99813efc9408b81dd5fb49df52411",
            "49b5bebc75bf4776a55fa0137daae6ff",
            "99b946b2a70544b192385e7837c1df67",
            "a0e36a9278694654a3d052851792d305",
            "af2e956ddae9471583d384b15498985c",
            "efac38cb90f94ed09163553858a5af66",
            "b7882cd9c2a44178b6d1dedc27c44121",
            "8c110a66f2ce4048a3fcaacf30754806",
            "b2376df4eac74b19b9ffeca137ac2433",
            "de2cc9bb4c6e4df2a8fdf92a2ce2603f",
            "8577f659e05e42f1b599f9743e57fec9",
            "f7b6f71061e944e3a95d85accca28943",
            "64fb8d51431e4c8eb13bdb5a9cd6784b",
            "b7b6321397754833b7f67fe6da3fb9bc",
            "54354e2fe6f44c0cac14c08a574944bf",
            "c9538dbda06a48aba3d0a77c706a0137",
            "0f2a43993e2441f6aacc518a24bbea13",
            "a20fd66e210a4408b4e8778f5267415f",
            "e65eeb8cb620409bbfcaa873906d16e9",
            "53e949c683a34b2595d6ec2da2dbd327",
            "11ce8e54bd364aef8c95d404707d5fca",
            "094fad0173034602b96dc1929bb82584",
            "f688912d6f874bbfa5b1c956ab0e53aa",
            "cb72fdef37de43d3a564509bf7936e61",
            "608b6ddfa62149ec87c766505cd7fe17",
            "347125abf238446eb0f97f7291f26d9a",
            "3a82ad2c7bbc46deb42299320f41cd08",
            "86c9e14112c24da09d04d4cd2fd0ebc6"
          ]
        },
        "id": "a995f402",
        "outputId": "e1030315-a147-4bc6-a9ff-3accfff5112c",
        "scrolled": true
      },
      "outputs": [
        {
          "output_type": "stream",
          "name": "stderr",
          "text": [
            "loading configuration file config.json from cache at /root/.cache/huggingface/hub/models--distilbert-base-uncased/snapshots/1c4513b2eedbda136f57676a34eea67aba266e5c/config.json\n",
            "Model config DistilBertConfig {\n",
            "  \"_name_or_path\": \"distilbert-base-uncased\",\n",
            "  \"activation\": \"gelu\",\n",
            "  \"architectures\": [\n",
            "    \"DistilBertForMaskedLM\"\n",
            "  ],\n",
            "  \"attention_dropout\": 0.1,\n",
            "  \"dim\": 768,\n",
            "  \"dropout\": 0.1,\n",
            "  \"hidden_dim\": 3072,\n",
            "  \"initializer_range\": 0.02,\n",
            "  \"max_position_embeddings\": 512,\n",
            "  \"model_type\": \"distilbert\",\n",
            "  \"n_heads\": 12,\n",
            "  \"n_layers\": 6,\n",
            "  \"pad_token_id\": 0,\n",
            "  \"qa_dropout\": 0.1,\n",
            "  \"seq_classif_dropout\": 0.2,\n",
            "  \"sinusoidal_pos_embds\": false,\n",
            "  \"tie_weights_\": true,\n",
            "  \"transformers_version\": \"4.26.1\",\n",
            "  \"vocab_size\": 30522\n",
            "}\n",
            "\n",
            "loading file vocab.txt from cache at /root/.cache/huggingface/hub/models--distilbert-base-uncased/snapshots/1c4513b2eedbda136f57676a34eea67aba266e5c/vocab.txt\n",
            "loading file tokenizer.json from cache at /root/.cache/huggingface/hub/models--distilbert-base-uncased/snapshots/1c4513b2eedbda136f57676a34eea67aba266e5c/tokenizer.json\n",
            "loading file added_tokens.json from cache at None\n",
            "loading file special_tokens_map.json from cache at None\n",
            "loading file tokenizer_config.json from cache at /root/.cache/huggingface/hub/models--distilbert-base-uncased/snapshots/1c4513b2eedbda136f57676a34eea67aba266e5c/tokenizer_config.json\n",
            "loading configuration file config.json from cache at /root/.cache/huggingface/hub/models--distilbert-base-uncased/snapshots/1c4513b2eedbda136f57676a34eea67aba266e5c/config.json\n",
            "Model config DistilBertConfig {\n",
            "  \"_name_or_path\": \"distilbert-base-uncased\",\n",
            "  \"activation\": \"gelu\",\n",
            "  \"architectures\": [\n",
            "    \"DistilBertForMaskedLM\"\n",
            "  ],\n",
            "  \"attention_dropout\": 0.1,\n",
            "  \"dim\": 768,\n",
            "  \"dropout\": 0.1,\n",
            "  \"hidden_dim\": 3072,\n",
            "  \"initializer_range\": 0.02,\n",
            "  \"max_position_embeddings\": 512,\n",
            "  \"model_type\": \"distilbert\",\n",
            "  \"n_heads\": 12,\n",
            "  \"n_layers\": 6,\n",
            "  \"pad_token_id\": 0,\n",
            "  \"qa_dropout\": 0.1,\n",
            "  \"seq_classif_dropout\": 0.2,\n",
            "  \"sinusoidal_pos_embds\": false,\n",
            "  \"tie_weights_\": true,\n",
            "  \"transformers_version\": \"4.26.1\",\n",
            "  \"vocab_size\": 30522\n",
            "}\n",
            "\n"
          ]
        },
        {
          "output_type": "display_data",
          "data": {
            "text/plain": [
              "Map:   0%|          | 0/3644 [00:00<?, ? examples/s]"
            ],
            "application/vnd.jupyter.widget-view+json": {
              "version_major": 2,
              "version_minor": 0,
              "model_id": "ec9ff88666f44adda283304db87f3ed4"
            }
          },
          "metadata": {}
        },
        {
          "output_type": "display_data",
          "data": {
            "text/plain": [
              "Map:   0%|          | 0/1562 [00:00<?, ? examples/s]"
            ],
            "application/vnd.jupyter.widget-view+json": {
              "version_major": 2,
              "version_minor": 0,
              "model_id": "b7882cd9c2a44178b6d1dedc27c44121"
            }
          },
          "metadata": {}
        },
        {
          "output_type": "display_data",
          "data": {
            "text/plain": [
              "Map:   0%|          | 0/997 [00:00<?, ? examples/s]"
            ],
            "application/vnd.jupyter.widget-view+json": {
              "version_major": 2,
              "version_minor": 0,
              "model_id": "a20fd66e210a4408b4e8778f5267415f"
            }
          },
          "metadata": {}
        }
      ],
      "source": [
        "model_name = \"distilbert-base-uncased\"\n",
        "tokenizer = AutoTokenizer.from_pretrained(model_name)\n",
        "\n",
        "def tokenize_text(texts):\n",
        "    return tokenizer(texts[\"transcription\"], truncation=True, padding=True, max_length=256)\n",
        "\n",
        "ds[\"train\"] = ds[\"train\"].map(tokenize_text, batched=True)\n",
        "ds[\"val\"] = ds[\"val\"].map(tokenize_text, batched=True)\n",
        "ds[\"test\"] = ds[\"test\"].map(tokenize_text, batched=True)"
      ],
      "id": "a995f402"
    },
    {
      "cell_type": "code",
      "execution_count": null,
      "metadata": {
        "colab": {
          "base_uri": "https://localhost:8080/"
        },
        "id": "fa6c4319",
        "outputId": "fb5b73b4-3ef9-41aa-97c8-e29deda6b3a4"
      },
      "outputs": [
        {
          "output_type": "stream",
          "name": "stderr",
          "text": [
            "loading configuration file config.json from cache at /root/.cache/huggingface/hub/models--distilbert-base-uncased/snapshots/1c4513b2eedbda136f57676a34eea67aba266e5c/config.json\n",
            "Model config DistilBertConfig {\n",
            "  \"_name_or_path\": \"distilbert-base-uncased\",\n",
            "  \"activation\": \"gelu\",\n",
            "  \"architectures\": [\n",
            "    \"DistilBertForMaskedLM\"\n",
            "  ],\n",
            "  \"attention_dropout\": 0.1,\n",
            "  \"dim\": 768,\n",
            "  \"dropout\": 0.1,\n",
            "  \"hidden_dim\": 3072,\n",
            "  \"id2label\": {\n",
            "    \"0\": \"LABEL_0\",\n",
            "    \"1\": \"LABEL_1\",\n",
            "    \"2\": \"LABEL_2\",\n",
            "    \"3\": \"LABEL_3\",\n",
            "    \"4\": \"LABEL_4\",\n",
            "    \"5\": \"LABEL_5\",\n",
            "    \"6\": \"LABEL_6\",\n",
            "    \"7\": \"LABEL_7\",\n",
            "    \"8\": \"LABEL_8\",\n",
            "    \"9\": \"LABEL_9\",\n",
            "    \"10\": \"LABEL_10\",\n",
            "    \"11\": \"LABEL_11\",\n",
            "    \"12\": \"LABEL_12\",\n",
            "    \"13\": \"LABEL_13\",\n",
            "    \"14\": \"LABEL_14\",\n",
            "    \"15\": \"LABEL_15\",\n",
            "    \"16\": \"LABEL_16\",\n",
            "    \"17\": \"LABEL_17\",\n",
            "    \"18\": \"LABEL_18\"\n",
            "  },\n",
            "  \"initializer_range\": 0.02,\n",
            "  \"label2id\": {\n",
            "    \"LABEL_0\": 0,\n",
            "    \"LABEL_1\": 1,\n",
            "    \"LABEL_10\": 10,\n",
            "    \"LABEL_11\": 11,\n",
            "    \"LABEL_12\": 12,\n",
            "    \"LABEL_13\": 13,\n",
            "    \"LABEL_14\": 14,\n",
            "    \"LABEL_15\": 15,\n",
            "    \"LABEL_16\": 16,\n",
            "    \"LABEL_17\": 17,\n",
            "    \"LABEL_18\": 18,\n",
            "    \"LABEL_2\": 2,\n",
            "    \"LABEL_3\": 3,\n",
            "    \"LABEL_4\": 4,\n",
            "    \"LABEL_5\": 5,\n",
            "    \"LABEL_6\": 6,\n",
            "    \"LABEL_7\": 7,\n",
            "    \"LABEL_8\": 8,\n",
            "    \"LABEL_9\": 9\n",
            "  },\n",
            "  \"max_position_embeddings\": 512,\n",
            "  \"model_type\": \"distilbert\",\n",
            "  \"n_heads\": 12,\n",
            "  \"n_layers\": 6,\n",
            "  \"pad_token_id\": 0,\n",
            "  \"qa_dropout\": 0.1,\n",
            "  \"seq_classif_dropout\": 0.2,\n",
            "  \"sinusoidal_pos_embds\": false,\n",
            "  \"tie_weights_\": true,\n",
            "  \"transformers_version\": \"4.26.1\",\n",
            "  \"vocab_size\": 30522\n",
            "}\n",
            "\n",
            "loading weights file pytorch_model.bin from cache at /root/.cache/huggingface/hub/models--distilbert-base-uncased/snapshots/1c4513b2eedbda136f57676a34eea67aba266e5c/pytorch_model.bin\n",
            "Some weights of the model checkpoint at distilbert-base-uncased were not used when initializing DistilBertForSequenceClassification: ['vocab_projector.bias', 'vocab_layer_norm.bias', 'vocab_layer_norm.weight', 'vocab_projector.weight', 'vocab_transform.weight', 'vocab_transform.bias']\n",
            "- This IS expected if you are initializing DistilBertForSequenceClassification from the checkpoint of a model trained on another task or with another architecture (e.g. initializing a BertForSequenceClassification model from a BertForPreTraining model).\n",
            "- This IS NOT expected if you are initializing DistilBertForSequenceClassification from the checkpoint of a model that you expect to be exactly identical (initializing a BertForSequenceClassification model from a BertForSequenceClassification model).\n",
            "Some weights of DistilBertForSequenceClassification were not initialized from the model checkpoint at distilbert-base-uncased and are newly initialized: ['classifier.weight', 'classifier.bias', 'pre_classifier.weight', 'pre_classifier.bias']\n",
            "You should probably TRAIN this model on a down-stream task to be able to use it for predictions and inference.\n"
          ]
        }
      ],
      "source": [
        "model = AutoModelForSequenceClassification.from_pretrained(\n",
        "    model_name,\n",
        "    num_labels=len(unique_classes)\n",
        ")"
      ],
      "id": "fa6c4319"
    },
    {
      "cell_type": "code",
      "execution_count": null,
      "metadata": {
        "id": "1f26fe53"
      },
      "outputs": [],
      "source": [
        "# Evaluating the approach taken using DistilBERT\n",
        "from sklearn.metrics import f1_score\n",
        "\n",
        "def compute_metrics(pred):\n",
        "    labels = pred.label_ids\n",
        "    preds = pred.predictions.argmax(-1)\n",
        "    f1 = f1_score(labels, preds, average=\"macro\")\n",
        "    return {\"f1\": f1}"
      ],
      "id": "1f26fe53"
    },
    {
      "cell_type": "code",
      "execution_count": null,
      "metadata": {
        "id": "414f5205",
        "colab": {
          "base_uri": "https://localhost:8080/"
        },
        "outputId": "d9c7ba46-c022-4dd6-b778-775c8ea129e6"
      },
      "outputs": [
        {
          "output_type": "stream",
          "name": "stderr",
          "text": [
            "PyTorch: setting up devices\n",
            "The default value for the training argument `--report_to` will change in v5 (from all installed integrations to none). In v5, you will need to use `--report_to all` to get the same behavior as now. You should start updating your code and make this info disappear :-).\n"
          ]
        }
      ],
      "source": [
        "# The optimal hyperparameters for DistilBERT is batch size 16 and learning rate 3e-5.\n",
        "# Over those hyperperameters, the BERT authors recommend using 4 epochs which has also been modified.\n",
        "# The optimal hyperparameters were found by trying possible permutations and combinations of the 3 variables.\n",
        "\n",
        "batch_size = 16\n",
        "# Batch_size was changed from 32 to 16.\n",
        "logging_steps = len(train_train_df) // batch_size\n",
        "output_dir = \"hf_trainer\"\n",
        "\n",
        "training_args = TrainingArguments(\n",
        "    output_dir=output_dir,\n",
        "     num_train_epochs=4,\n",
        "     # epochs was changed from 5 to 4.\n",
        "     learning_rate=3e-5,\n",
        "     # Learning_rate was changed to 3e-5 from 2e-5.\n",
        "     per_device_train_batch_size=batch_size,\n",
        "     per_device_eval_batch_size=batch_size,\n",
        "     weight_decay=0.01,\n",
        "     evaluation_strategy=\"epoch\",\n",
        "     logging_steps=logging_steps,\n",
        "     push_to_hub=False\n",
        ")"
      ],
      "id": "414f5205"
    },
    {
      "cell_type": "code",
      "execution_count": null,
      "metadata": {
        "id": "994876be"
      },
      "outputs": [],
      "source": [
        "trainer = Trainer(\n",
        "    model=model,\n",
        "    args=training_args,\n",
        "    compute_metrics=compute_metrics,\n",
        "    train_dataset=ds['train'],\n",
        "    eval_dataset=ds['val'],\n",
        "    tokenizer=tokenizer\n",
        ")"
      ],
      "id": "994876be"
    },
    {
      "cell_type": "code",
      "execution_count": null,
      "metadata": {
        "colab": {
          "base_uri": "https://localhost:8080/",
          "height": 933
        },
        "id": "c8cfca94",
        "outputId": "8bd66f4b-767b-4ab8-ce02-6c24438f4169"
      },
      "outputs": [
        {
          "output_type": "stream",
          "name": "stderr",
          "text": [
            "The following columns in the training set don't have a corresponding argument in `DistilBertForSequenceClassification.forward` and have been ignored: __index_level_0__, transcription, medical_specialty. If __index_level_0__, transcription, medical_specialty are not expected by `DistilBertForSequenceClassification.forward`,  you can safely ignore this message.\n",
            "/usr/local/lib/python3.8/dist-packages/transformers/optimization.py:306: FutureWarning: This implementation of AdamW is deprecated and will be removed in a future version. Use the PyTorch implementation torch.optim.AdamW instead, or set `no_deprecation_warning=True` to disable this warning\n",
            "  warnings.warn(\n",
            "***** Running training *****\n",
            "  Num examples = 3644\n",
            "  Num Epochs = 4\n",
            "  Instantaneous batch size per device = 16\n",
            "  Total train batch size (w. parallel, distributed & accumulation) = 16\n",
            "  Gradient Accumulation steps = 1\n",
            "  Total optimization steps = 912\n",
            "  Number of trainable parameters = 66968083\n",
            "You're using a DistilBertTokenizerFast tokenizer. Please note that with a fast tokenizer, using the `__call__` method is faster than using a method to encode the text followed by a call to the `pad` method to get a padded encoding.\n"
          ]
        },
        {
          "output_type": "display_data",
          "data": {
            "text/plain": [
              "<IPython.core.display.HTML object>"
            ],
            "text/html": [
              "\n",
              "    <div>\n",
              "      \n",
              "      <progress value='912' max='912' style='width:300px; height:20px; vertical-align: middle;'></progress>\n",
              "      [912/912 06:04, Epoch 4/4]\n",
              "    </div>\n",
              "    <table border=\"1\" class=\"dataframe\">\n",
              "  <thead>\n",
              " <tr style=\"text-align: left;\">\n",
              "      <th>Epoch</th>\n",
              "      <th>Training Loss</th>\n",
              "      <th>Validation Loss</th>\n",
              "      <th>F1</th>\n",
              "    </tr>\n",
              "  </thead>\n",
              "  <tbody>\n",
              "    <tr>\n",
              "      <td>1</td>\n",
              "      <td>2.421000</td>\n",
              "      <td>2.001525</td>\n",
              "      <td>0.224193</td>\n",
              "    </tr>\n",
              "    <tr>\n",
              "      <td>2</td>\n",
              "      <td>1.801600</td>\n",
              "      <td>1.665965</td>\n",
              "      <td>0.346763</td>\n",
              "    </tr>\n",
              "    <tr>\n",
              "      <td>3</td>\n",
              "      <td>1.487700</td>\n",
              "      <td>1.536423</td>\n",
              "      <td>0.416806</td>\n",
              "    </tr>\n",
              "    <tr>\n",
              "      <td>4</td>\n",
              "      <td>1.311500</td>\n",
              "      <td>1.501980</td>\n",
              "      <td>0.448441</td>\n",
              "    </tr>\n",
              "  </tbody>\n",
              "</table><p>"
            ]
          },
          "metadata": {}
        },
        {
          "output_type": "stream",
          "name": "stderr",
          "text": [
            "The following columns in the evaluation set don't have a corresponding argument in `DistilBertForSequenceClassification.forward` and have been ignored: __index_level_0__, transcription, medical_specialty. If __index_level_0__, transcription, medical_specialty are not expected by `DistilBertForSequenceClassification.forward`,  you can safely ignore this message.\n",
            "***** Running Evaluation *****\n",
            "  Num examples = 1562\n",
            "  Batch size = 16\n",
            "The following columns in the evaluation set don't have a corresponding argument in `DistilBertForSequenceClassification.forward` and have been ignored: __index_level_0__, transcription, medical_specialty. If __index_level_0__, transcription, medical_specialty are not expected by `DistilBertForSequenceClassification.forward`,  you can safely ignore this message.\n",
            "***** Running Evaluation *****\n",
            "  Num examples = 1562\n",
            "  Batch size = 16\n",
            "Saving model checkpoint to hf_trainer/checkpoint-500\n",
            "Configuration saved in hf_trainer/checkpoint-500/config.json\n",
            "Model weights saved in hf_trainer/checkpoint-500/pytorch_model.bin\n",
            "tokenizer config file saved in hf_trainer/checkpoint-500/tokenizer_config.json\n",
            "Special tokens file saved in hf_trainer/checkpoint-500/special_tokens_map.json\n",
            "The following columns in the evaluation set don't have a corresponding argument in `DistilBertForSequenceClassification.forward` and have been ignored: __index_level_0__, transcription, medical_specialty. If __index_level_0__, transcription, medical_specialty are not expected by `DistilBertForSequenceClassification.forward`,  you can safely ignore this message.\n",
            "***** Running Evaluation *****\n",
            "  Num examples = 1562\n",
            "  Batch size = 16\n",
            "The following columns in the evaluation set don't have a corresponding argument in `DistilBertForSequenceClassification.forward` and have been ignored: __index_level_0__, transcription, medical_specialty. If __index_level_0__, transcription, medical_specialty are not expected by `DistilBertForSequenceClassification.forward`,  you can safely ignore this message.\n",
            "***** Running Evaluation *****\n",
            "  Num examples = 1562\n",
            "  Batch size = 16\n",
            "\n",
            "\n",
            "Training completed. Do not forget to share your model on huggingface.co/models =)\n",
            "\n",
            "\n"
          ]
        },
        {
          "output_type": "execute_result",
          "data": {
            "text/plain": [
              "TrainOutput(global_step=912, training_loss=1.7528277494405444, metrics={'train_runtime': 364.4352, 'train_samples_per_second': 39.996, 'train_steps_per_second': 2.503, 'total_flos': 965715089350656.0, 'train_loss': 1.7528277494405444, 'epoch': 4.0})"
            ]
          },
          "metadata": {},
          "execution_count": 140
        }
      ],
      "source": [
        "trainer.train()"
      ],
      "id": "c8cfca94"
    },
    {
      "cell_type": "markdown",
      "metadata": {
        "id": "e0a6603a"
      },
      "source": [
        "### Making Inference on the Test Set"
      ],
      "id": "e0a6603a"
    },
    {
      "cell_type": "code",
      "execution_count": null,
      "metadata": {
        "id": "d3bc4a1d",
        "colab": {
          "base_uri": "https://localhost:8080/"
        },
        "outputId": "1cedd51a-ce5a-4596-e548-92dd510f204b"
      },
      "outputs": [
        {
          "output_type": "execute_result",
          "data": {
            "text/plain": [
              "Dataset({\n",
              "    features: ['transcription', '__index_level_0__', 'input_ids', 'attention_mask'],\n",
              "    num_rows: 997\n",
              "})"
            ]
          },
          "metadata": {},
          "execution_count": 141
        }
      ],
      "source": [
        "ds[\"test\"]"
      ],
      "id": "d3bc4a1d"
    },
    {
      "cell_type": "code",
      "execution_count": null,
      "metadata": {
        "id": "d0d1f4da",
        "colab": {
          "base_uri": "https://localhost:8080/",
          "height": 105
        },
        "outputId": "d28d78d1-bbc1-465d-f5b0-140c26ecb55c"
      },
      "outputs": [
        {
          "output_type": "stream",
          "name": "stderr",
          "text": [
            "The following columns in the test set don't have a corresponding argument in `DistilBertForSequenceClassification.forward` and have been ignored: __index_level_0__, transcription. If __index_level_0__, transcription are not expected by `DistilBertForSequenceClassification.forward`,  you can safely ignore this message.\n",
            "***** Running Prediction *****\n",
            "  Num examples = 997\n",
            "  Batch size = 16\n"
          ]
        },
        {
          "output_type": "display_data",
          "data": {
            "text/plain": [
              "<IPython.core.display.HTML object>"
            ],
            "text/html": []
          },
          "metadata": {}
        }
      ],
      "source": [
        "pred_y = trainer.predict(ds[\"test\"])"
      ],
      "id": "d0d1f4da"
    },
    {
      "cell_type": "code",
      "execution_count": null,
      "metadata": {
        "id": "0411c232"
      },
      "outputs": [],
      "source": [
        "a = pd.Series(pred_y.predictions.argmax(axis=1))\n",
        "a.name = \"Expected\"\n",
        "a.to_csv(\"predictions.csv\")"
      ],
      "id": "0411c232"
    }
  ],
  "metadata": {
    "colab": {
      "provenance": []
    },
    "gpuClass": "standard",
    "kernelspec": {
      "display_name": "Python 3 (ipykernel)",
      "language": "python",
      "name": "python3"
    },
    "language_info": {
      "codemirror_mode": {
        "name": "ipython",
        "version": 3
      },
      "file_extension": ".py",
      "mimetype": "text/x-python",
      "name": "python",
      "nbconvert_exporter": "python",
      "pygments_lexer": "ipython3",
      "version": "3.10.6"
    },
    "widgets": {
      "application/vnd.jupyter.widget-state+json": {
        "ec9ff88666f44adda283304db87f3ed4": {
          "model_module": "@jupyter-widgets/controls",
          "model_name": "HBoxModel",
          "model_module_version": "1.5.0",
          "state": {
            "_dom_classes": [],
            "_model_module": "@jupyter-widgets/controls",
            "_model_module_version": "1.5.0",
            "_model_name": "HBoxModel",
            "_view_count": null,
            "_view_module": "@jupyter-widgets/controls",
            "_view_module_version": "1.5.0",
            "_view_name": "HBoxView",
            "box_style": "",
            "children": [
              "IPY_MODEL_e44d805b85eb4c4fbad0c66f9e313062",
              "IPY_MODEL_3671859100d743d799e2f686f2d9061b",
              "IPY_MODEL_54b1676bc7d54ce9b2e14c61258e3b94"
            ],
            "layout": "IPY_MODEL_1c24f4b7dfd34a3fb60e3111d3bc7e8a"
          }
        },
        "e44d805b85eb4c4fbad0c66f9e313062": {
          "model_module": "@jupyter-widgets/controls",
          "model_name": "HTMLModel",
          "model_module_version": "1.5.0",
          "state": {
            "_dom_classes": [],
            "_model_module": "@jupyter-widgets/controls",
            "_model_module_version": "1.5.0",
            "_model_name": "HTMLModel",
            "_view_count": null,
            "_view_module": "@jupyter-widgets/controls",
            "_view_module_version": "1.5.0",
            "_view_name": "HTMLView",
            "description": "",
            "description_tooltip": null,
            "layout": "IPY_MODEL_a6d99813efc9408b81dd5fb49df52411",
            "placeholder": "​",
            "style": "IPY_MODEL_49b5bebc75bf4776a55fa0137daae6ff",
            "value": "Map: 100%"
          }
        },
        "3671859100d743d799e2f686f2d9061b": {
          "model_module": "@jupyter-widgets/controls",
          "model_name": "FloatProgressModel",
          "model_module_version": "1.5.0",
          "state": {
            "_dom_classes": [],
            "_model_module": "@jupyter-widgets/controls",
            "_model_module_version": "1.5.0",
            "_model_name": "FloatProgressModel",
            "_view_count": null,
            "_view_module": "@jupyter-widgets/controls",
            "_view_module_version": "1.5.0",
            "_view_name": "ProgressView",
            "bar_style": "",
            "description": "",
            "description_tooltip": null,
            "layout": "IPY_MODEL_99b946b2a70544b192385e7837c1df67",
            "max": 3644,
            "min": 0,
            "orientation": "horizontal",
            "style": "IPY_MODEL_a0e36a9278694654a3d052851792d305",
            "value": 3644
          }
        },
        "54b1676bc7d54ce9b2e14c61258e3b94": {
          "model_module": "@jupyter-widgets/controls",
          "model_name": "HTMLModel",
          "model_module_version": "1.5.0",
          "state": {
            "_dom_classes": [],
            "_model_module": "@jupyter-widgets/controls",
            "_model_module_version": "1.5.0",
            "_model_name": "HTMLModel",
            "_view_count": null,
            "_view_module": "@jupyter-widgets/controls",
            "_view_module_version": "1.5.0",
            "_view_name": "HTMLView",
            "description": "",
            "description_tooltip": null,
            "layout": "IPY_MODEL_af2e956ddae9471583d384b15498985c",
            "placeholder": "​",
            "style": "IPY_MODEL_efac38cb90f94ed09163553858a5af66",
            "value": " 3644/3644 [00:05&lt;00:00, 766.42 examples/s]"
          }
        },
        "1c24f4b7dfd34a3fb60e3111d3bc7e8a": {
          "model_module": "@jupyter-widgets/base",
          "model_name": "LayoutModel",
          "model_module_version": "1.2.0",
          "state": {
            "_model_module": "@jupyter-widgets/base",
            "_model_module_version": "1.2.0",
            "_model_name": "LayoutModel",
            "_view_count": null,
            "_view_module": "@jupyter-widgets/base",
            "_view_module_version": "1.2.0",
            "_view_name": "LayoutView",
            "align_content": null,
            "align_items": null,
            "align_self": null,
            "border": null,
            "bottom": null,
            "display": null,
            "flex": null,
            "flex_flow": null,
            "grid_area": null,
            "grid_auto_columns": null,
            "grid_auto_flow": null,
            "grid_auto_rows": null,
            "grid_column": null,
            "grid_gap": null,
            "grid_row": null,
            "grid_template_areas": null,
            "grid_template_columns": null,
            "grid_template_rows": null,
            "height": null,
            "justify_content": null,
            "justify_items": null,
            "left": null,
            "margin": null,
            "max_height": null,
            "max_width": null,
            "min_height": null,
            "min_width": null,
            "object_fit": null,
            "object_position": null,
            "order": null,
            "overflow": null,
            "overflow_x": null,
            "overflow_y": null,
            "padding": null,
            "right": null,
            "top": null,
            "visibility": "hidden",
            "width": null
          }
        },
        "a6d99813efc9408b81dd5fb49df52411": {
          "model_module": "@jupyter-widgets/base",
          "model_name": "LayoutModel",
          "model_module_version": "1.2.0",
          "state": {
            "_model_module": "@jupyter-widgets/base",
            "_model_module_version": "1.2.0",
            "_model_name": "LayoutModel",
            "_view_count": null,
            "_view_module": "@jupyter-widgets/base",
            "_view_module_version": "1.2.0",
            "_view_name": "LayoutView",
            "align_content": null,
            "align_items": null,
            "align_self": null,
            "border": null,
            "bottom": null,
            "display": null,
            "flex": null,
            "flex_flow": null,
            "grid_area": null,
            "grid_auto_columns": null,
            "grid_auto_flow": null,
            "grid_auto_rows": null,
            "grid_column": null,
            "grid_gap": null,
            "grid_row": null,
            "grid_template_areas": null,
            "grid_template_columns": null,
            "grid_template_rows": null,
            "height": null,
            "justify_content": null,
            "justify_items": null,
            "left": null,
            "margin": null,
            "max_height": null,
            "max_width": null,
            "min_height": null,
            "min_width": null,
            "object_fit": null,
            "object_position": null,
            "order": null,
            "overflow": null,
            "overflow_x": null,
            "overflow_y": null,
            "padding": null,
            "right": null,
            "top": null,
            "visibility": null,
            "width": null
          }
        },
        "49b5bebc75bf4776a55fa0137daae6ff": {
          "model_module": "@jupyter-widgets/controls",
          "model_name": "DescriptionStyleModel",
          "model_module_version": "1.5.0",
          "state": {
            "_model_module": "@jupyter-widgets/controls",
            "_model_module_version": "1.5.0",
            "_model_name": "DescriptionStyleModel",
            "_view_count": null,
            "_view_module": "@jupyter-widgets/base",
            "_view_module_version": "1.2.0",
            "_view_name": "StyleView",
            "description_width": ""
          }
        },
        "99b946b2a70544b192385e7837c1df67": {
          "model_module": "@jupyter-widgets/base",
          "model_name": "LayoutModel",
          "model_module_version": "1.2.0",
          "state": {
            "_model_module": "@jupyter-widgets/base",
            "_model_module_version": "1.2.0",
            "_model_name": "LayoutModel",
            "_view_count": null,
            "_view_module": "@jupyter-widgets/base",
            "_view_module_version": "1.2.0",
            "_view_name": "LayoutView",
            "align_content": null,
            "align_items": null,
            "align_self": null,
            "border": null,
            "bottom": null,
            "display": null,
            "flex": null,
            "flex_flow": null,
            "grid_area": null,
            "grid_auto_columns": null,
            "grid_auto_flow": null,
            "grid_auto_rows": null,
            "grid_column": null,
            "grid_gap": null,
            "grid_row": null,
            "grid_template_areas": null,
            "grid_template_columns": null,
            "grid_template_rows": null,
            "height": null,
            "justify_content": null,
            "justify_items": null,
            "left": null,
            "margin": null,
            "max_height": null,
            "max_width": null,
            "min_height": null,
            "min_width": null,
            "object_fit": null,
            "object_position": null,
            "order": null,
            "overflow": null,
            "overflow_x": null,
            "overflow_y": null,
            "padding": null,
            "right": null,
            "top": null,
            "visibility": null,
            "width": null
          }
        },
        "a0e36a9278694654a3d052851792d305": {
          "model_module": "@jupyter-widgets/controls",
          "model_name": "ProgressStyleModel",
          "model_module_version": "1.5.0",
          "state": {
            "_model_module": "@jupyter-widgets/controls",
            "_model_module_version": "1.5.0",
            "_model_name": "ProgressStyleModel",
            "_view_count": null,
            "_view_module": "@jupyter-widgets/base",
            "_view_module_version": "1.2.0",
            "_view_name": "StyleView",
            "bar_color": null,
            "description_width": ""
          }
        },
        "af2e956ddae9471583d384b15498985c": {
          "model_module": "@jupyter-widgets/base",
          "model_name": "LayoutModel",
          "model_module_version": "1.2.0",
          "state": {
            "_model_module": "@jupyter-widgets/base",
            "_model_module_version": "1.2.0",
            "_model_name": "LayoutModel",
            "_view_count": null,
            "_view_module": "@jupyter-widgets/base",
            "_view_module_version": "1.2.0",
            "_view_name": "LayoutView",
            "align_content": null,
            "align_items": null,
            "align_self": null,
            "border": null,
            "bottom": null,
            "display": null,
            "flex": null,
            "flex_flow": null,
            "grid_area": null,
            "grid_auto_columns": null,
            "grid_auto_flow": null,
            "grid_auto_rows": null,
            "grid_column": null,
            "grid_gap": null,
            "grid_row": null,
            "grid_template_areas": null,
            "grid_template_columns": null,
            "grid_template_rows": null,
            "height": null,
            "justify_content": null,
            "justify_items": null,
            "left": null,
            "margin": null,
            "max_height": null,
            "max_width": null,
            "min_height": null,
            "min_width": null,
            "object_fit": null,
            "object_position": null,
            "order": null,
            "overflow": null,
            "overflow_x": null,
            "overflow_y": null,
            "padding": null,
            "right": null,
            "top": null,
            "visibility": null,
            "width": null
          }
        },
        "efac38cb90f94ed09163553858a5af66": {
          "model_module": "@jupyter-widgets/controls",
          "model_name": "DescriptionStyleModel",
          "model_module_version": "1.5.0",
          "state": {
            "_model_module": "@jupyter-widgets/controls",
            "_model_module_version": "1.5.0",
            "_model_name": "DescriptionStyleModel",
            "_view_count": null,
            "_view_module": "@jupyter-widgets/base",
            "_view_module_version": "1.2.0",
            "_view_name": "StyleView",
            "description_width": ""
          }
        },
        "b7882cd9c2a44178b6d1dedc27c44121": {
          "model_module": "@jupyter-widgets/controls",
          "model_name": "HBoxModel",
          "model_module_version": "1.5.0",
          "state": {
            "_dom_classes": [],
            "_model_module": "@jupyter-widgets/controls",
            "_model_module_version": "1.5.0",
            "_model_name": "HBoxModel",
            "_view_count": null,
            "_view_module": "@jupyter-widgets/controls",
            "_view_module_version": "1.5.0",
            "_view_name": "HBoxView",
            "box_style": "",
            "children": [
              "IPY_MODEL_8c110a66f2ce4048a3fcaacf30754806",
              "IPY_MODEL_b2376df4eac74b19b9ffeca137ac2433",
              "IPY_MODEL_de2cc9bb4c6e4df2a8fdf92a2ce2603f"
            ],
            "layout": "IPY_MODEL_8577f659e05e42f1b599f9743e57fec9"
          }
        },
        "8c110a66f2ce4048a3fcaacf30754806": {
          "model_module": "@jupyter-widgets/controls",
          "model_name": "HTMLModel",
          "model_module_version": "1.5.0",
          "state": {
            "_dom_classes": [],
            "_model_module": "@jupyter-widgets/controls",
            "_model_module_version": "1.5.0",
            "_model_name": "HTMLModel",
            "_view_count": null,
            "_view_module": "@jupyter-widgets/controls",
            "_view_module_version": "1.5.0",
            "_view_name": "HTMLView",
            "description": "",
            "description_tooltip": null,
            "layout": "IPY_MODEL_f7b6f71061e944e3a95d85accca28943",
            "placeholder": "​",
            "style": "IPY_MODEL_64fb8d51431e4c8eb13bdb5a9cd6784b",
            "value": "Map: 100%"
          }
        },
        "b2376df4eac74b19b9ffeca137ac2433": {
          "model_module": "@jupyter-widgets/controls",
          "model_name": "FloatProgressModel",
          "model_module_version": "1.5.0",
          "state": {
            "_dom_classes": [],
            "_model_module": "@jupyter-widgets/controls",
            "_model_module_version": "1.5.0",
            "_model_name": "FloatProgressModel",
            "_view_count": null,
            "_view_module": "@jupyter-widgets/controls",
            "_view_module_version": "1.5.0",
            "_view_name": "ProgressView",
            "bar_style": "",
            "description": "",
            "description_tooltip": null,
            "layout": "IPY_MODEL_b7b6321397754833b7f67fe6da3fb9bc",
            "max": 1562,
            "min": 0,
            "orientation": "horizontal",
            "style": "IPY_MODEL_54354e2fe6f44c0cac14c08a574944bf",
            "value": 1562
          }
        },
        "de2cc9bb4c6e4df2a8fdf92a2ce2603f": {
          "model_module": "@jupyter-widgets/controls",
          "model_name": "HTMLModel",
          "model_module_version": "1.5.0",
          "state": {
            "_dom_classes": [],
            "_model_module": "@jupyter-widgets/controls",
            "_model_module_version": "1.5.0",
            "_model_name": "HTMLModel",
            "_view_count": null,
            "_view_module": "@jupyter-widgets/controls",
            "_view_module_version": "1.5.0",
            "_view_name": "HTMLView",
            "description": "",
            "description_tooltip": null,
            "layout": "IPY_MODEL_c9538dbda06a48aba3d0a77c706a0137",
            "placeholder": "​",
            "style": "IPY_MODEL_0f2a43993e2441f6aacc518a24bbea13",
            "value": " 1562/1562 [00:01&lt;00:00, 907.57 examples/s]"
          }
        },
        "8577f659e05e42f1b599f9743e57fec9": {
          "model_module": "@jupyter-widgets/base",
          "model_name": "LayoutModel",
          "model_module_version": "1.2.0",
          "state": {
            "_model_module": "@jupyter-widgets/base",
            "_model_module_version": "1.2.0",
            "_model_name": "LayoutModel",
            "_view_count": null,
            "_view_module": "@jupyter-widgets/base",
            "_view_module_version": "1.2.0",
            "_view_name": "LayoutView",
            "align_content": null,
            "align_items": null,
            "align_self": null,
            "border": null,
            "bottom": null,
            "display": null,
            "flex": null,
            "flex_flow": null,
            "grid_area": null,
            "grid_auto_columns": null,
            "grid_auto_flow": null,
            "grid_auto_rows": null,
            "grid_column": null,
            "grid_gap": null,
            "grid_row": null,
            "grid_template_areas": null,
            "grid_template_columns": null,
            "grid_template_rows": null,
            "height": null,
            "justify_content": null,
            "justify_items": null,
            "left": null,
            "margin": null,
            "max_height": null,
            "max_width": null,
            "min_height": null,
            "min_width": null,
            "object_fit": null,
            "object_position": null,
            "order": null,
            "overflow": null,
            "overflow_x": null,
            "overflow_y": null,
            "padding": null,
            "right": null,
            "top": null,
            "visibility": "hidden",
            "width": null
          }
        },
        "f7b6f71061e944e3a95d85accca28943": {
          "model_module": "@jupyter-widgets/base",
          "model_name": "LayoutModel",
          "model_module_version": "1.2.0",
          "state": {
            "_model_module": "@jupyter-widgets/base",
            "_model_module_version": "1.2.0",
            "_model_name": "LayoutModel",
            "_view_count": null,
            "_view_module": "@jupyter-widgets/base",
            "_view_module_version": "1.2.0",
            "_view_name": "LayoutView",
            "align_content": null,
            "align_items": null,
            "align_self": null,
            "border": null,
            "bottom": null,
            "display": null,
            "flex": null,
            "flex_flow": null,
            "grid_area": null,
            "grid_auto_columns": null,
            "grid_auto_flow": null,
            "grid_auto_rows": null,
            "grid_column": null,
            "grid_gap": null,
            "grid_row": null,
            "grid_template_areas": null,
            "grid_template_columns": null,
            "grid_template_rows": null,
            "height": null,
            "justify_content": null,
            "justify_items": null,
            "left": null,
            "margin": null,
            "max_height": null,
            "max_width": null,
            "min_height": null,
            "min_width": null,
            "object_fit": null,
            "object_position": null,
            "order": null,
            "overflow": null,
            "overflow_x": null,
            "overflow_y": null,
            "padding": null,
            "right": null,
            "top": null,
            "visibility": null,
            "width": null
          }
        },
        "64fb8d51431e4c8eb13bdb5a9cd6784b": {
          "model_module": "@jupyter-widgets/controls",
          "model_name": "DescriptionStyleModel",
          "model_module_version": "1.5.0",
          "state": {
            "_model_module": "@jupyter-widgets/controls",
            "_model_module_version": "1.5.0",
            "_model_name": "DescriptionStyleModel",
            "_view_count": null,
            "_view_module": "@jupyter-widgets/base",
            "_view_module_version": "1.2.0",
            "_view_name": "StyleView",
            "description_width": ""
          }
        },
        "b7b6321397754833b7f67fe6da3fb9bc": {
          "model_module": "@jupyter-widgets/base",
          "model_name": "LayoutModel",
          "model_module_version": "1.2.0",
          "state": {
            "_model_module": "@jupyter-widgets/base",
            "_model_module_version": "1.2.0",
            "_model_name": "LayoutModel",
            "_view_count": null,
            "_view_module": "@jupyter-widgets/base",
            "_view_module_version": "1.2.0",
            "_view_name": "LayoutView",
            "align_content": null,
            "align_items": null,
            "align_self": null,
            "border": null,
            "bottom": null,
            "display": null,
            "flex": null,
            "flex_flow": null,
            "grid_area": null,
            "grid_auto_columns": null,
            "grid_auto_flow": null,
            "grid_auto_rows": null,
            "grid_column": null,
            "grid_gap": null,
            "grid_row": null,
            "grid_template_areas": null,
            "grid_template_columns": null,
            "grid_template_rows": null,
            "height": null,
            "justify_content": null,
            "justify_items": null,
            "left": null,
            "margin": null,
            "max_height": null,
            "max_width": null,
            "min_height": null,
            "min_width": null,
            "object_fit": null,
            "object_position": null,
            "order": null,
            "overflow": null,
            "overflow_x": null,
            "overflow_y": null,
            "padding": null,
            "right": null,
            "top": null,
            "visibility": null,
            "width": null
          }
        },
        "54354e2fe6f44c0cac14c08a574944bf": {
          "model_module": "@jupyter-widgets/controls",
          "model_name": "ProgressStyleModel",
          "model_module_version": "1.5.0",
          "state": {
            "_model_module": "@jupyter-widgets/controls",
            "_model_module_version": "1.5.0",
            "_model_name": "ProgressStyleModel",
            "_view_count": null,
            "_view_module": "@jupyter-widgets/base",
            "_view_module_version": "1.2.0",
            "_view_name": "StyleView",
            "bar_color": null,
            "description_width": ""
          }
        },
        "c9538dbda06a48aba3d0a77c706a0137": {
          "model_module": "@jupyter-widgets/base",
          "model_name": "LayoutModel",
          "model_module_version": "1.2.0",
          "state": {
            "_model_module": "@jupyter-widgets/base",
            "_model_module_version": "1.2.0",
            "_model_name": "LayoutModel",
            "_view_count": null,
            "_view_module": "@jupyter-widgets/base",
            "_view_module_version": "1.2.0",
            "_view_name": "LayoutView",
            "align_content": null,
            "align_items": null,
            "align_self": null,
            "border": null,
            "bottom": null,
            "display": null,
            "flex": null,
            "flex_flow": null,
            "grid_area": null,
            "grid_auto_columns": null,
            "grid_auto_flow": null,
            "grid_auto_rows": null,
            "grid_column": null,
            "grid_gap": null,
            "grid_row": null,
            "grid_template_areas": null,
            "grid_template_columns": null,
            "grid_template_rows": null,
            "height": null,
            "justify_content": null,
            "justify_items": null,
            "left": null,
            "margin": null,
            "max_height": null,
            "max_width": null,
            "min_height": null,
            "min_width": null,
            "object_fit": null,
            "object_position": null,
            "order": null,
            "overflow": null,
            "overflow_x": null,
            "overflow_y": null,
            "padding": null,
            "right": null,
            "top": null,
            "visibility": null,
            "width": null
          }
        },
        "0f2a43993e2441f6aacc518a24bbea13": {
          "model_module": "@jupyter-widgets/controls",
          "model_name": "DescriptionStyleModel",
          "model_module_version": "1.5.0",
          "state": {
            "_model_module": "@jupyter-widgets/controls",
            "_model_module_version": "1.5.0",
            "_model_name": "DescriptionStyleModel",
            "_view_count": null,
            "_view_module": "@jupyter-widgets/base",
            "_view_module_version": "1.2.0",
            "_view_name": "StyleView",
            "description_width": ""
          }
        },
        "a20fd66e210a4408b4e8778f5267415f": {
          "model_module": "@jupyter-widgets/controls",
          "model_name": "HBoxModel",
          "model_module_version": "1.5.0",
          "state": {
            "_dom_classes": [],
            "_model_module": "@jupyter-widgets/controls",
            "_model_module_version": "1.5.0",
            "_model_name": "HBoxModel",
            "_view_count": null,
            "_view_module": "@jupyter-widgets/controls",
            "_view_module_version": "1.5.0",
            "_view_name": "HBoxView",
            "box_style": "",
            "children": [
              "IPY_MODEL_e65eeb8cb620409bbfcaa873906d16e9",
              "IPY_MODEL_53e949c683a34b2595d6ec2da2dbd327",
              "IPY_MODEL_11ce8e54bd364aef8c95d404707d5fca"
            ],
            "layout": "IPY_MODEL_094fad0173034602b96dc1929bb82584"
          }
        },
        "e65eeb8cb620409bbfcaa873906d16e9": {
          "model_module": "@jupyter-widgets/controls",
          "model_name": "HTMLModel",
          "model_module_version": "1.5.0",
          "state": {
            "_dom_classes": [],
            "_model_module": "@jupyter-widgets/controls",
            "_model_module_version": "1.5.0",
            "_model_name": "HTMLModel",
            "_view_count": null,
            "_view_module": "@jupyter-widgets/controls",
            "_view_module_version": "1.5.0",
            "_view_name": "HTMLView",
            "description": "",
            "description_tooltip": null,
            "layout": "IPY_MODEL_f688912d6f874bbfa5b1c956ab0e53aa",
            "placeholder": "​",
            "style": "IPY_MODEL_cb72fdef37de43d3a564509bf7936e61",
            "value": "Map: 100%"
          }
        },
        "53e949c683a34b2595d6ec2da2dbd327": {
          "model_module": "@jupyter-widgets/controls",
          "model_name": "FloatProgressModel",
          "model_module_version": "1.5.0",
          "state": {
            "_dom_classes": [],
            "_model_module": "@jupyter-widgets/controls",
            "_model_module_version": "1.5.0",
            "_model_name": "FloatProgressModel",
            "_view_count": null,
            "_view_module": "@jupyter-widgets/controls",
            "_view_module_version": "1.5.0",
            "_view_name": "ProgressView",
            "bar_style": "",
            "description": "",
            "description_tooltip": null,
            "layout": "IPY_MODEL_608b6ddfa62149ec87c766505cd7fe17",
            "max": 997,
            "min": 0,
            "orientation": "horizontal",
            "style": "IPY_MODEL_347125abf238446eb0f97f7291f26d9a",
            "value": 997
          }
        },
        "11ce8e54bd364aef8c95d404707d5fca": {
          "model_module": "@jupyter-widgets/controls",
          "model_name": "HTMLModel",
          "model_module_version": "1.5.0",
          "state": {
            "_dom_classes": [],
            "_model_module": "@jupyter-widgets/controls",
            "_model_module_version": "1.5.0",
            "_model_name": "HTMLModel",
            "_view_count": null,
            "_view_module": "@jupyter-widgets/controls",
            "_view_module_version": "1.5.0",
            "_view_name": "HTMLView",
            "description": "",
            "description_tooltip": null,
            "layout": "IPY_MODEL_3a82ad2c7bbc46deb42299320f41cd08",
            "placeholder": "​",
            "style": "IPY_MODEL_86c9e14112c24da09d04d4cd2fd0ebc6",
            "value": " 997/997 [00:01&lt;00:00, 619.34 examples/s]"
          }
        },
        "094fad0173034602b96dc1929bb82584": {
          "model_module": "@jupyter-widgets/base",
          "model_name": "LayoutModel",
          "model_module_version": "1.2.0",
          "state": {
            "_model_module": "@jupyter-widgets/base",
            "_model_module_version": "1.2.0",
            "_model_name": "LayoutModel",
            "_view_count": null,
            "_view_module": "@jupyter-widgets/base",
            "_view_module_version": "1.2.0",
            "_view_name": "LayoutView",
            "align_content": null,
            "align_items": null,
            "align_self": null,
            "border": null,
            "bottom": null,
            "display": null,
            "flex": null,
            "flex_flow": null,
            "grid_area": null,
            "grid_auto_columns": null,
            "grid_auto_flow": null,
            "grid_auto_rows": null,
            "grid_column": null,
            "grid_gap": null,
            "grid_row": null,
            "grid_template_areas": null,
            "grid_template_columns": null,
            "grid_template_rows": null,
            "height": null,
            "justify_content": null,
            "justify_items": null,
            "left": null,
            "margin": null,
            "max_height": null,
            "max_width": null,
            "min_height": null,
            "min_width": null,
            "object_fit": null,
            "object_position": null,
            "order": null,
            "overflow": null,
            "overflow_x": null,
            "overflow_y": null,
            "padding": null,
            "right": null,
            "top": null,
            "visibility": "hidden",
            "width": null
          }
        },
        "f688912d6f874bbfa5b1c956ab0e53aa": {
          "model_module": "@jupyter-widgets/base",
          "model_name": "LayoutModel",
          "model_module_version": "1.2.0",
          "state": {
            "_model_module": "@jupyter-widgets/base",
            "_model_module_version": "1.2.0",
            "_model_name": "LayoutModel",
            "_view_count": null,
            "_view_module": "@jupyter-widgets/base",
            "_view_module_version": "1.2.0",
            "_view_name": "LayoutView",
            "align_content": null,
            "align_items": null,
            "align_self": null,
            "border": null,
            "bottom": null,
            "display": null,
            "flex": null,
            "flex_flow": null,
            "grid_area": null,
            "grid_auto_columns": null,
            "grid_auto_flow": null,
            "grid_auto_rows": null,
            "grid_column": null,
            "grid_gap": null,
            "grid_row": null,
            "grid_template_areas": null,
            "grid_template_columns": null,
            "grid_template_rows": null,
            "height": null,
            "justify_content": null,
            "justify_items": null,
            "left": null,
            "margin": null,
            "max_height": null,
            "max_width": null,
            "min_height": null,
            "min_width": null,
            "object_fit": null,
            "object_position": null,
            "order": null,
            "overflow": null,
            "overflow_x": null,
            "overflow_y": null,
            "padding": null,
            "right": null,
            "top": null,
            "visibility": null,
            "width": null
          }
        },
        "cb72fdef37de43d3a564509bf7936e61": {
          "model_module": "@jupyter-widgets/controls",
          "model_name": "DescriptionStyleModel",
          "model_module_version": "1.5.0",
          "state": {
            "_model_module": "@jupyter-widgets/controls",
            "_model_module_version": "1.5.0",
            "_model_name": "DescriptionStyleModel",
            "_view_count": null,
            "_view_module": "@jupyter-widgets/base",
            "_view_module_version": "1.2.0",
            "_view_name": "StyleView",
            "description_width": ""
          }
        },
        "608b6ddfa62149ec87c766505cd7fe17": {
          "model_module": "@jupyter-widgets/base",
          "model_name": "LayoutModel",
          "model_module_version": "1.2.0",
          "state": {
            "_model_module": "@jupyter-widgets/base",
            "_model_module_version": "1.2.0",
            "_model_name": "LayoutModel",
            "_view_count": null,
            "_view_module": "@jupyter-widgets/base",
            "_view_module_version": "1.2.0",
            "_view_name": "LayoutView",
            "align_content": null,
            "align_items": null,
            "align_self": null,
            "border": null,
            "bottom": null,
            "display": null,
            "flex": null,
            "flex_flow": null,
            "grid_area": null,
            "grid_auto_columns": null,
            "grid_auto_flow": null,
            "grid_auto_rows": null,
            "grid_column": null,
            "grid_gap": null,
            "grid_row": null,
            "grid_template_areas": null,
            "grid_template_columns": null,
            "grid_template_rows": null,
            "height": null,
            "justify_content": null,
            "justify_items": null,
            "left": null,
            "margin": null,
            "max_height": null,
            "max_width": null,
            "min_height": null,
            "min_width": null,
            "object_fit": null,
            "object_position": null,
            "order": null,
            "overflow": null,
            "overflow_x": null,
            "overflow_y": null,
            "padding": null,
            "right": null,
            "top": null,
            "visibility": null,
            "width": null
          }
        },
        "347125abf238446eb0f97f7291f26d9a": {
          "model_module": "@jupyter-widgets/controls",
          "model_name": "ProgressStyleModel",
          "model_module_version": "1.5.0",
          "state": {
            "_model_module": "@jupyter-widgets/controls",
            "_model_module_version": "1.5.0",
            "_model_name": "ProgressStyleModel",
            "_view_count": null,
            "_view_module": "@jupyter-widgets/base",
            "_view_module_version": "1.2.0",
            "_view_name": "StyleView",
            "bar_color": null,
            "description_width": ""
          }
        },
        "3a82ad2c7bbc46deb42299320f41cd08": {
          "model_module": "@jupyter-widgets/base",
          "model_name": "LayoutModel",
          "model_module_version": "1.2.0",
          "state": {
            "_model_module": "@jupyter-widgets/base",
            "_model_module_version": "1.2.0",
            "_model_name": "LayoutModel",
            "_view_count": null,
            "_view_module": "@jupyter-widgets/base",
            "_view_module_version": "1.2.0",
            "_view_name": "LayoutView",
            "align_content": null,
            "align_items": null,
            "align_self": null,
            "border": null,
            "bottom": null,
            "display": null,
            "flex": null,
            "flex_flow": null,
            "grid_area": null,
            "grid_auto_columns": null,
            "grid_auto_flow": null,
            "grid_auto_rows": null,
            "grid_column": null,
            "grid_gap": null,
            "grid_row": null,
            "grid_template_areas": null,
            "grid_template_columns": null,
            "grid_template_rows": null,
            "height": null,
            "justify_content": null,
            "justify_items": null,
            "left": null,
            "margin": null,
            "max_height": null,
            "max_width": null,
            "min_height": null,
            "min_width": null,
            "object_fit": null,
            "object_position": null,
            "order": null,
            "overflow": null,
            "overflow_x": null,
            "overflow_y": null,
            "padding": null,
            "right": null,
            "top": null,
            "visibility": null,
            "width": null
          }
        },
        "86c9e14112c24da09d04d4cd2fd0ebc6": {
          "model_module": "@jupyter-widgets/controls",
          "model_name": "DescriptionStyleModel",
          "model_module_version": "1.5.0",
          "state": {
            "_model_module": "@jupyter-widgets/controls",
            "_model_module_version": "1.5.0",
            "_model_name": "DescriptionStyleModel",
            "_view_count": null,
            "_view_module": "@jupyter-widgets/base",
            "_view_module_version": "1.2.0",
            "_view_name": "StyleView",
            "description_width": ""
          }
        }
      }
    },
    "accelerator": "GPU"
  },
  "nbformat": 4,
  "nbformat_minor": 5
}